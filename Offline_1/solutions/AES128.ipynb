{
 "cells": [
  {
   "cell_type": "code",
   "execution_count": 390,
   "metadata": {},
   "outputs": [],
   "source": [
    "import numpy as np\n",
    "import sbox as sb\n",
    "from consts import *\n",
    "\n",
    "KEY_SIZE = 128\n",
    "WORD_ARRAY_SIZE = 4\n",
    "WORD_SIZE = int(KEY_SIZE / WORD_ARRAY_SIZE)"
   ]
  },
  {
   "cell_type": "code",
   "execution_count": 391,
   "metadata": {},
   "outputs": [],
   "source": [
    "def stringToHex(string: str) -> list:\n",
    "  \"\"\"\n",
    "  Converts a string to a list of hex values\n",
    "  \"\"\"\n",
    "  return [hex(ord(c)) for c in string]"
   ]
  },
  {
   "cell_type": "code",
   "execution_count": 392,
   "metadata": {},
   "outputs": [
    {
     "name": "stdout",
     "output_type": "stream",
     "text": [
      "['0x54' '0x68' '0x61' '0x74' '0x73' '0x20' '0x6d' '0x79' '0x20' '0x4b'\n",
      " '0x75' '0x6e' '0x67' '0x20' '0x46' '0x75'] <class 'list'>\n"
     ]
    }
   ],
   "source": [
    "test = stringToHex(\"Thats my Kung Fu\")\n",
    "print(np.array(test), type(test))"
   ]
  },
  {
   "cell_type": "code",
   "execution_count": 393,
   "metadata": {},
   "outputs": [],
   "source": [
    "def textToMatrix(text: str) -> list:\n",
    "  \"\"\"\n",
    "  Converts a string to a 4x4 matrix of Hex values\n",
    "  \"\"\"\n",
    "  key = stringToHex(text)\n",
    "  return np.matrix(np.reshape(key, (WORD_ARRAY_SIZE, int(KEY_SIZE / WORD_SIZE)))).tolist()"
   ]
  },
  {
   "cell_type": "code",
   "execution_count": 394,
   "metadata": {},
   "outputs": [
    {
     "name": "stdout",
     "output_type": "stream",
     "text": [
      "[['0x54' '0x68' '0x61' '0x74']\n",
      " ['0x73' '0x20' '0x6d' '0x79']\n",
      " ['0x20' '0x4b' '0x75' '0x6e']\n",
      " ['0x67' '0x20' '0x46' '0x75']] <class 'list'>\n"
     ]
    }
   ],
   "source": [
    "testMatrix = textToMatrix(\"Thats my Kung Fu\")\n",
    "print(np.array(testMatrix), type(testMatrix))"
   ]
  },
  {
   "cell_type": "code",
   "execution_count": 395,
   "metadata": {},
   "outputs": [],
   "source": [
    "def roundConst(round: int) -> int:\n",
    "  \"\"\"\n",
    "  Returns the round constant for the given round\n",
    "  \"\"\"\n",
    "  if round == 1:\n",
    "    return 0x01\n",
    "  prevRoundConst = roundConst(round - 1)\n",
    "  return (prevRoundConst << 1) ^ (0x11b & -(prevRoundConst >> 7)) "
   ]
  },
  {
   "cell_type": "code",
   "execution_count": 396,
   "metadata": {},
   "outputs": [],
   "source": [
    "def g(key: list, round: int) -> list:\n",
    "  \"\"\"\n",
    "  Performs the g() operation on a key\n",
    "  1. Rotates the key by 1 byte\n",
    "  2. Applies the sbox to each byte\n",
    "  3. Add the round constant (XOR)\n",
    "  \"\"\"\n",
    "  key = np.concatenate((key[1:], key[:1]))\n",
    "  key = [hex(sb.Sbox[int(x, 16)]) for x in key]\n",
    "  key[0] = hex(int(key[0], 16) ^ roundConst(round))\n",
    "\n",
    "  return key"
   ]
  },
  {
   "cell_type": "code",
   "execution_count": 397,
   "metadata": {},
   "outputs": [
    {
     "name": "stdout",
     "output_type": "stream",
     "text": [
      "['0xb6', '0x5a', '0x9d', '0x85'] <class 'list'>\n"
     ]
    }
   ],
   "source": [
    "testG = g(testMatrix[3], 1)\n",
    "print(testG, type(testG))"
   ]
  },
  {
   "cell_type": "code",
   "execution_count": 398,
   "metadata": {},
   "outputs": [],
   "source": [
    "def xor(array1: list, array2: list) -> list:\n",
    "  \"\"\"\n",
    "  XORs two matrices\n",
    "  args: array1, array2 - 1D arrays of hex values\n",
    "  \"\"\"\n",
    "  key = []\n",
    "  \n",
    "  for i in range(WORD_ARRAY_SIZE):\n",
    "    key.append(hex(int(array1[i], 16) ^ int(array2[i], 16)))\n",
    "    \n",
    "  return key"
   ]
  },
  {
   "cell_type": "code",
   "execution_count": 399,
   "metadata": {},
   "outputs": [
    {
     "name": "stdout",
     "output_type": "stream",
     "text": [
      "['0xe2', '0x32', '0xfc', '0xf1'] <class 'list'>\n"
     ]
    }
   ],
   "source": [
    "keyXor = xor(testMatrix[0], testG)\n",
    "print(keyXor, type(keyXor))"
   ]
  },
  {
   "cell_type": "code",
   "execution_count": 400,
   "metadata": {},
   "outputs": [],
   "source": [
    "def roundKey(round: int, prevkey: list) -> list:\n",
    "  \"\"\"\n",
    "  Generates the next round's key from the previous round's key\n",
    "  \"\"\"\n",
    "  w = [xor(prevkey[0], g(prevkey[3], round))]\n",
    "  \n",
    "  for i in range(1, WORD_ARRAY_SIZE):\n",
    "    newKey = xor(w[i - 1], prevkey[i])\n",
    "    w.append(newKey)\n",
    "    \n",
    "  return w"
   ]
  },
  {
   "cell_type": "code",
   "execution_count": 401,
   "metadata": {},
   "outputs": [],
   "source": [
    "def convertTo128Bits(text: str) -> str:\n",
    "  \"\"\"\n",
    "  Converts the given key to 128 bits\n",
    "  \"\"\"\n",
    "  if len(text) > 16:\n",
    "    return text[:16]\n",
    "  elif len(text) < 16:\n",
    "    return text + \"0\" * (16 - len(text))\n",
    "  \n",
    "  return text"
   ]
  },
  {
   "cell_type": "code",
   "execution_count": 402,
   "metadata": {},
   "outputs": [],
   "source": [
    "def createAllKeys(text: str) -> list:\n",
    "  \"\"\"\n",
    "  Generates all round keys from the initial key\n",
    "  \"\"\"\n",
    "  text = convertTo128Bits(text)\n",
    "  keys = [textToMatrix(text)]\n",
    "  for i in range(10):\n",
    "    keys.append(roundKey(i+1, keys[i]))\n",
    "  return keys"
   ]
  },
  {
   "cell_type": "code",
   "execution_count": 403,
   "metadata": {},
   "outputs": [
    {
     "name": "stdout",
     "output_type": "stream",
     "text": [
      "[[['0x54' '0x68' '0x61' '0x74']\n",
      "  ['0x73' '0x20' '0x6d' '0x79']\n",
      "  ['0x20' '0x4b' '0x75' '0x6e']\n",
      "  ['0x67' '0x20' '0x46' '0x75']]\n",
      "\n",
      " [['0xe2' '0x32' '0xfc' '0xf1']\n",
      "  ['0x91' '0x12' '0x91' '0x88']\n",
      "  ['0xb1' '0x59' '0xe4' '0xe6']\n",
      "  ['0xd6' '0x79' '0xa2' '0x93']]\n",
      "\n",
      " [['0x56' '0x8' '0x20' '0x7']\n",
      "  ['0xc7' '0x1a' '0xb1' '0x8f']\n",
      "  ['0x76' '0x43' '0x55' '0x69']\n",
      "  ['0xa0' '0x3a' '0xf7' '0xfa']]\n",
      "\n",
      " [['0xd2' '0x60' '0xd' '0xe7']\n",
      "  ['0x15' '0x7a' '0xbc' '0x68']\n",
      "  ['0x63' '0x39' '0xe9' '0x1']\n",
      "  ['0xc3' '0x3' '0x1e' '0xfb']]\n",
      "\n",
      " [['0xa1' '0x12' '0x2' '0xc9']\n",
      "  ['0xb4' '0x68' '0xbe' '0xa1']\n",
      "  ['0xd7' '0x51' '0x57' '0xa0']\n",
      "  ['0x14' '0x52' '0x49' '0x5b']]\n",
      "\n",
      " [['0xb1' '0x29' '0x3b' '0x33']\n",
      "  ['0x5' '0x41' '0x85' '0x92']\n",
      "  ['0xd2' '0x10' '0xd2' '0x32']\n",
      "  ['0xc6' '0x42' '0x9b' '0x69']]\n",
      "\n",
      " [['0xbd' '0x3d' '0xc2' '0x87']\n",
      "  ['0xb8' '0x7c' '0x47' '0x15']\n",
      "  ['0x6a' '0x6c' '0x95' '0x27']\n",
      "  ['0xac' '0x2e' '0xe' '0x4e']]\n",
      "\n",
      " [['0xcc' '0x96' '0xed' '0x16']\n",
      "  ['0x74' '0xea' '0xaa' '0x3']\n",
      "  ['0x1e' '0x86' '0x3f' '0x24']\n",
      "  ['0xb2' '0xa8' '0x31' '0x6a']]\n",
      "\n",
      " [['0x8e' '0x51' '0xef' '0x21']\n",
      "  ['0xfa' '0xbb' '0x45' '0x22']\n",
      "  ['0xe4' '0x3d' '0x7a' '0x6']\n",
      "  ['0x56' '0x95' '0x4b' '0x6c']]\n",
      "\n",
      " [['0xbf' '0xe2' '0xbf' '0x90']\n",
      "  ['0x45' '0x59' '0xfa' '0xb2']\n",
      "  ['0xa1' '0x64' '0x80' '0xb4']\n",
      "  ['0xf7' '0xf1' '0xcb' '0xd8']]\n",
      "\n",
      " [['0x28' '0xfd' '0xde' '0xf8']\n",
      "  ['0x6d' '0xa4' '0x24' '0x4a']\n",
      "  ['0xcc' '0xc0' '0xa4' '0xfe']\n",
      "  ['0x3b' '0x31' '0x6f' '0x26']]]\n"
     ]
    }
   ],
   "source": [
    "allKeys = createAllKeys(\"Thats my Kung Fu\")\n",
    "print(np.array(allKeys))"
   ]
  },
  {
   "cell_type": "code",
   "execution_count": 404,
   "metadata": {},
   "outputs": [],
   "source": [
    "def stateMatrix(text: str) -> list:\n",
    "  \"\"\"\n",
    "  Converts the given text to a 4x4 matrix in column major order\n",
    "  args: text: str - the text to convert. It is assumed that the text is 128 bits. \n",
    "    If the text is less than 128 bits, it is padded with 0s. If it is greater than 128 bits,\n",
    "    it is truncated to 128 bits.\n",
    "  \"\"\"\n",
    "  text = convertTo128Bits(text)\n",
    "  matrix = textToMatrix(text)\n",
    "  \n",
    "  return np.array(matrix).T.tolist()\n",
    "  "
   ]
  },
  {
   "cell_type": "code",
   "execution_count": 405,
   "metadata": {},
   "outputs": [
    {
     "name": "stdout",
     "output_type": "stream",
     "text": [
      "[['0x54' '0x4f' '0x4e' '0x20']\n",
      " ['0x77' '0x6e' '0x69' '0x54']\n",
      " ['0x6f' '0x65' '0x6e' '0x77']\n",
      " ['0x20' '0x20' '0x65' '0x6f']]\n",
      "[['0x54' '0x73' '0x20' '0x67']\n",
      " ['0x68' '0x20' '0x4b' '0x20']\n",
      " ['0x61' '0x6d' '0x75' '0x46']\n",
      " ['0x74' '0x79' '0x6e' '0x75']]\n"
     ]
    }
   ],
   "source": [
    "stateMat = stateMatrix(\"Two One Nine Two\")\n",
    "print(np.array(stateMat))\n",
    "\n",
    "round0key = allKeys[0]\n",
    "print(np.array(round0key).T)"
   ]
  },
  {
   "cell_type": "code",
   "execution_count": 406,
   "metadata": {},
   "outputs": [],
   "source": [
    "def addRoundKey(stateMatrix: list, roundKey: list) -> list:\n",
    "  \"\"\"\n",
    "  Adds the round key to the state matrix\n",
    "  \n",
    "  args: stateMatrix: list - the state matrix (assumed to be in column major order)\n",
    "        roundKey: list - the round key (assumed to be in row major order)\n",
    "  \"\"\"\n",
    "  roundKey = np.array(roundKey).T.tolist()\n",
    "  newStateMatrix = []\n",
    "  \n",
    "  for i in range(WORD_ARRAY_SIZE):\n",
    "    newStateMatrix.append(xor(stateMatrix[i], roundKey[i]))\n",
    "    \n",
    "  return newStateMatrix"
   ]
  },
  {
   "cell_type": "code",
   "execution_count": 407,
   "metadata": {},
   "outputs": [
    {
     "name": "stdout",
     "output_type": "stream",
     "text": [
      "[['0x0' '0x3c' '0x6e' '0x47']\n",
      " ['0x1f' '0x4e' '0x22' '0x74']\n",
      " ['0xe' '0x8' '0x1b' '0x31']\n",
      " ['0x54' '0x59' '0xb' '0x1a']]\n"
     ]
    }
   ],
   "source": [
    "stateMat = addRoundKey(stateMat, round0key)\n",
    "print(np.array(stateMat))"
   ]
  },
  {
   "cell_type": "code",
   "execution_count": 408,
   "metadata": {},
   "outputs": [],
   "source": [
    "def subBytes(stateMatrix: list) -> list:\n",
    "  \"\"\"\n",
    "  Applies the sbox to each byte in the state matrix\n",
    "  \"\"\"\n",
    "  newStateMatrix = []\n",
    "  \n",
    "  for i in range(WORD_ARRAY_SIZE):\n",
    "    newStateMatrix.append([hex(sb.Sbox[int(x, 16)]) for x in stateMatrix[i]])\n",
    "    \n",
    "  return newStateMatrix"
   ]
  },
  {
   "cell_type": "code",
   "execution_count": 409,
   "metadata": {},
   "outputs": [
    {
     "name": "stdout",
     "output_type": "stream",
     "text": [
      "[['0x63' '0xeb' '0x9f' '0xa0']\n",
      " ['0xc0' '0x2f' '0x93' '0x92']\n",
      " ['0xab' '0x30' '0xaf' '0xc7']\n",
      " ['0x20' '0xcb' '0x2b' '0xa2']]\n"
     ]
    }
   ],
   "source": [
    "stateMat = subBytes(stateMat)\n",
    "print(np.array(stateMat))"
   ]
  },
  {
   "cell_type": "code",
   "execution_count": 410,
   "metadata": {},
   "outputs": [],
   "source": [
    "def shiftRow(stateMat: list):\n",
    "  \"\"\"\n",
    "  Round Shifts the rows of the state matrix to the left by the row number\n",
    "  \"\"\"\n",
    "  newStateMatrix = []\n",
    "  for i in range(WORD_ARRAY_SIZE):\n",
    "    newStateMatrix.append(np.roll(stateMat[i], -i))\n",
    "    \n",
    "  return newStateMatrix\n",
    "  "
   ]
  },
  {
   "cell_type": "code",
   "execution_count": 411,
   "metadata": {},
   "outputs": [
    {
     "name": "stdout",
     "output_type": "stream",
     "text": [
      "[['0x63' '0xeb' '0x9f' '0xa0']\n",
      " ['0x2f' '0x93' '0x92' '0xc0']\n",
      " ['0xaf' '0xc7' '0xab' '0x30']\n",
      " ['0xa2' '0x20' '0xcb' '0x2b']]\n"
     ]
    }
   ],
   "source": [
    "stateMat = shiftRow(stateMat)\n",
    "print(np.array(stateMat))"
   ]
  },
  {
   "cell_type": "code",
   "execution_count": 412,
   "metadata": {},
   "outputs": [],
   "source": [
    "def mixColumn(stateMat: list) -> list:\n",
    "  \"\"\"\n",
    "  Mixes the columns of the state matrix with a fixed matrix\n",
    "  \"\"\"\n",
    "  stateMat = np.array(stateMat).T\n",
    "  print(stateMat)\n",
    "  newStateMatrix = []\n",
    "  \n",
    "  for i in range(WORD_ARRAY_SIZE):\n",
    "    row = []\n",
    "    for j in range(int(KEY_SIZE / WORD_SIZE)):\n",
    "      dotProd = 0\n",
    "      \n",
    "      for k in range(WORD_ARRAY_SIZE):\n",
    "        bv1 = Mixer[i][k]\n",
    "        bv2 = BitVector(hexstring = str(int(stateMat[j][k], 16)))\n",
    "        dotProd ^= (bv1.gf_multiply_modular(bv2, AES_modulus, 8)).int_val()\n",
    "      \n",
    "      row.append(hex(dotProd))\n",
    "    \n",
    "    newStateMatrix.append(row)\n",
    "  \n",
    "  return newStateMatrix  \n",
    "  \n",
    "  "
   ]
  },
  {
   "cell_type": "code",
   "execution_count": 413,
   "metadata": {},
   "outputs": [
    {
     "name": "stdout",
     "output_type": "stream",
     "text": [
      "[['0x63' '0x2f' '0xaf' '0xa2']\n",
      " ['0xeb' '0x93' '0xc7' '0x20']\n",
      " ['0x9f' '0x92' '0xab' '0xcb']\n",
      " ['0xa0' '0xc0' '0x30' '0x2b']]\n",
      "[['0xf7' '0x52' '0x3c' '0x7d']\n",
      " ['0xdc' '0x14' '0x73' '0xe9']\n",
      " ['0x89' '0x16' '0x94' '0xa7']\n",
      " ['0x6b' '0xbf' '0x9b' '0xca']]\n"
     ]
    }
   ],
   "source": [
    "stateMat = mixColumn(stateMat)\n",
    "print(np.array(stateMat))"
   ]
  },
  {
   "cell_type": "code",
   "execution_count": null,
   "metadata": {},
   "outputs": [],
   "source": []
  }
 ],
 "metadata": {
  "kernelspec": {
   "display_name": "Python 3",
   "language": "python",
   "name": "python3"
  },
  "language_info": {
   "codemirror_mode": {
    "name": "ipython",
    "version": 3
   },
   "file_extension": ".py",
   "mimetype": "text/x-python",
   "name": "python",
   "nbconvert_exporter": "python",
   "pygments_lexer": "ipython3",
   "version": "3.10.6"
  },
  "orig_nbformat": 4
 },
 "nbformat": 4,
 "nbformat_minor": 2
}
