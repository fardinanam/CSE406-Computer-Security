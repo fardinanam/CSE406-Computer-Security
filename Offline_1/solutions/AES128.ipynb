{
 "cells": [
  {
   "cell_type": "code",
   "execution_count": null,
   "metadata": {},
   "outputs": [],
   "source": [
    "import numpy as np\n",
    "import sbox as sb\n",
    "from consts import *\n",
    "\n",
    "KEY_SIZE = 128\n",
    "WORD_ARRAY_SIZE = 4\n",
    "WORD_SIZE = int(KEY_SIZE / WORD_ARRAY_SIZE)\n",
    "COLUMN_SIZE = int(KEY_SIZE / WORD_SIZE)"
   ]
  },
  {
   "cell_type": "code",
   "execution_count": null,
   "metadata": {},
   "outputs": [],
   "source": [
    "def stringToHex(string: str) -> list:\n",
    "  \"\"\"\n",
    "  Converts a string to a list of hex values\n",
    "  \"\"\"\n",
    "  return [hex(ord(c)) for c in string]"
   ]
  },
  {
   "cell_type": "code",
   "execution_count": null,
   "metadata": {},
   "outputs": [],
   "source": [
    "test = stringToHex(\"Thats my Kung Fu\")\n",
    "print(np.array(test), type(test))"
   ]
  },
  {
   "cell_type": "code",
   "execution_count": null,
   "metadata": {},
   "outputs": [],
   "source": [
    "def textToMatrix(text: str) -> list:\n",
    "  \"\"\"\n",
    "  Converts a string to a 4x4 matrix of Hex values\n",
    "  \"\"\"\n",
    "  key = stringToHex(text)\n",
    "  return np.matrix(np.reshape(key, (WORD_ARRAY_SIZE, COLUMN_SIZE))).tolist()"
   ]
  },
  {
   "cell_type": "code",
   "execution_count": null,
   "metadata": {},
   "outputs": [],
   "source": [
    "testMatrix = textToMatrix(\"Thats my Kung Fu\")\n",
    "print(np.array(testMatrix), type(testMatrix))"
   ]
  },
  {
   "cell_type": "code",
   "execution_count": null,
   "metadata": {},
   "outputs": [],
   "source": [
    "def roundConst(round: int) -> int:\n",
    "  \"\"\"\n",
    "  Returns the round constant for the given round\n",
    "  \"\"\"\n",
    "  if round == 1:\n",
    "    return 0x01\n",
    "  prevRoundConst = roundConst(round - 1)\n",
    "  return (prevRoundConst << 1) ^ (0x11b & -(prevRoundConst >> 7)) "
   ]
  },
  {
   "cell_type": "code",
   "execution_count": null,
   "metadata": {},
   "outputs": [],
   "source": [
    "def g(key: list, round: int) -> list:\n",
    "  \"\"\"\n",
    "  Performs the g() operation on a key\n",
    "  1. Rotates the key by 1 byte\n",
    "  2. Applies the sbox to each byte\n",
    "  3. Add the round constant (XOR)\n",
    "  \"\"\"\n",
    "  key = np.concatenate((key[1:], key[:1]))\n",
    "  key = [hex(sb.Sbox[int(x, 16)]) for x in key]\n",
    "  key[0] = hex(int(key[0], 16) ^ roundConst(round))\n",
    "\n",
    "  return key"
   ]
  },
  {
   "cell_type": "code",
   "execution_count": null,
   "metadata": {},
   "outputs": [],
   "source": [
    "testG = g(testMatrix[3], 1)\n",
    "print(testG, type(testG))"
   ]
  },
  {
   "cell_type": "code",
   "execution_count": null,
   "metadata": {},
   "outputs": [],
   "source": [
    "def xor(array1: list, array2: list) -> list:\n",
    "  \"\"\"\n",
    "  XORs two matrices\n",
    "  args: array1, array2 - 1D arrays of hex values\n",
    "  \"\"\"\n",
    "  key = []\n",
    "  \n",
    "  for i in range(WORD_ARRAY_SIZE):\n",
    "    key.append(hex(int(array1[i], 16) ^ int(array2[i], 16)))\n",
    "    \n",
    "  return key"
   ]
  },
  {
   "cell_type": "code",
   "execution_count": null,
   "metadata": {},
   "outputs": [],
   "source": [
    "keyXor = xor(testMatrix[0], testG)\n",
    "print(keyXor, type(keyXor))"
   ]
  },
  {
   "cell_type": "code",
   "execution_count": null,
   "metadata": {},
   "outputs": [],
   "source": [
    "def roundKey(round: int, prevkey: list) -> list:\n",
    "  \"\"\"\n",
    "  Generates the next round's key from the previous round's key\n",
    "  \"\"\"\n",
    "  w = [xor(prevkey[0], g(prevkey[3], round))]\n",
    "  \n",
    "  for i in range(1, WORD_ARRAY_SIZE):\n",
    "    newKey = xor(w[i - 1], prevkey[i])\n",
    "    w.append(newKey)\n",
    "    \n",
    "  return w"
   ]
  },
  {
   "cell_type": "code",
   "execution_count": null,
   "metadata": {},
   "outputs": [],
   "source": [
    "def convertTo128Bits(text: str) -> str:\n",
    "  \"\"\"\n",
    "  Converts the given key to 128 bits\n",
    "  \"\"\"\n",
    "  if len(text) > 16:\n",
    "    return text[:16]\n",
    "  elif len(text) < 16:\n",
    "    return text + \"0\" * (16 - len(text))\n",
    "  \n",
    "  return text"
   ]
  },
  {
   "cell_type": "code",
   "execution_count": null,
   "metadata": {},
   "outputs": [],
   "source": [
    "def createAllKeys(text: str) -> list:\n",
    "  \"\"\"\n",
    "  Generates all round keys from the initial key\n",
    "  \"\"\"\n",
    "  text = convertTo128Bits(text)\n",
    "  keys = [textToMatrix(text)]\n",
    "  for i in range(10):\n",
    "    keys.append(roundKey(i+1, keys[i]))\n",
    "  return keys"
   ]
  },
  {
   "cell_type": "code",
   "execution_count": null,
   "metadata": {},
   "outputs": [],
   "source": [
    "allKeys = createAllKeys(\"Thats my Kung Fu\")\n",
    "print(np.array(allKeys))"
   ]
  },
  {
   "cell_type": "code",
   "execution_count": null,
   "metadata": {},
   "outputs": [],
   "source": [
    "def stateMatrix(text: str) -> list:\n",
    "  \"\"\"\n",
    "  Converts the given text to a 4x4 matrix in column major order\n",
    "  args: text: str - the text to convert. It is assumed that the text is 128 bits. \n",
    "    If the text is less than 128 bits, it is padded with 0s. If it is greater than 128 bits,\n",
    "    it is truncated to 128 bits.\n",
    "  \"\"\"\n",
    "  text = convertTo128Bits(text)\n",
    "  matrix = textToMatrix(text)\n",
    "  \n",
    "  return np.array(matrix).T.tolist()\n",
    "  "
   ]
  },
  {
   "cell_type": "code",
   "execution_count": null,
   "metadata": {},
   "outputs": [],
   "source": [
    "def invStateMatrix(cipherText: str) -> list:\n",
    "  \"\"\"\n",
    "  Converts the given cipher text to a 4x4 matrix in column major order\n",
    "  args: text: str - the text to convert. It is assumed that the text is 128 bits. \n",
    "    If the text is less than 128 bits, it is padded with 0s. If it is greater than 128 bits,\n",
    "    it is truncated to 128 bits.\n",
    "  \"\"\"\n",
    "  if len(cipherText) % 2 != 0:\n",
    "    raise Exception(\"Invalid cipher text. Cipher text must be of even length.\")\n",
    "  \n",
    "  matrix = list(cipherText[i:i+2] for i in range(0, len(cipherText), 2))\n",
    "\n",
    "  return np.reshape(matrix, (WORD_ARRAY_SIZE, COLUMN_SIZE)).T.tolist()"
   ]
  },
  {
   "cell_type": "code",
   "execution_count": null,
   "metadata": {},
   "outputs": [],
   "source": [
    "print(np.array(invStateMatrix(\"29c3505f571420f6402299b31a02d73a\")))\n"
   ]
  },
  {
   "cell_type": "code",
   "execution_count": null,
   "metadata": {},
   "outputs": [],
   "source": [
    "stateMat = stateMatrix(\"Two One Nine Two\")\n",
    "print(np.array(stateMat))\n",
    "\n",
    "round0key = allKeys[0]\n",
    "print(np.array(round0key).T)"
   ]
  },
  {
   "cell_type": "code",
   "execution_count": null,
   "metadata": {},
   "outputs": [],
   "source": [
    "def addRoundKey(stateMatrix: list, roundKey: list) -> list:\n",
    "  \"\"\"\n",
    "  Adds the round key to the state matrix\n",
    "  \n",
    "  args: stateMatrix: list - the state matrix (assumed to be in column major order)\n",
    "        roundKey: list - the round key (assumed to be in row major order)\n",
    "  \"\"\"\n",
    "  roundKey = np.array(roundKey).T.tolist()\n",
    "  newStateMatrix = []\n",
    "  \n",
    "  for i in range(WORD_ARRAY_SIZE):\n",
    "    newStateMatrix.append(xor(stateMatrix[i], roundKey[i]))\n",
    "    \n",
    "  return newStateMatrix"
   ]
  },
  {
   "cell_type": "code",
   "execution_count": null,
   "metadata": {},
   "outputs": [],
   "source": [
    "stateMat = addRoundKey(stateMat, round0key)\n",
    "print(np.array(stateMat))"
   ]
  },
  {
   "cell_type": "code",
   "execution_count": null,
   "metadata": {},
   "outputs": [],
   "source": [
    "def subBytes(stateMatrix: list) -> list:\n",
    "  \"\"\"\n",
    "  Applies the sbox to each byte in the state matrix\n",
    "  \"\"\"\n",
    "  newStateMatrix = []\n",
    "  \n",
    "  for i in range(WORD_ARRAY_SIZE):\n",
    "    newStateMatrix.append([hex(sb.Sbox[int(x, 16)]) for x in stateMatrix[i]])\n",
    "    \n",
    "  return newStateMatrix"
   ]
  },
  {
   "cell_type": "code",
   "execution_count": null,
   "metadata": {},
   "outputs": [],
   "source": [
    "stateMat = subBytes(stateMat)\n",
    "print(np.array(stateMat))"
   ]
  },
  {
   "cell_type": "code",
   "execution_count": null,
   "metadata": {},
   "outputs": [],
   "source": [
    "def invSubBytes(stateMatrix: list) -> list:\n",
    "  \"\"\"\n",
    "  Applies the inverse sbox to each byte in the state matrix\n",
    "  \"\"\"\n",
    "  newStateMatrix = []\n",
    "  \n",
    "  for i in range(WORD_ARRAY_SIZE):\n",
    "    newStateMatrix.append([hex(sb.InvSbox[int(x, 16)]) for x in stateMatrix[i]])\n",
    "    \n",
    "  return newStateMatrix"
   ]
  },
  {
   "cell_type": "code",
   "execution_count": null,
   "metadata": {},
   "outputs": [],
   "source": [
    "invStateMat = invSubBytes(stateMat)\n",
    "print(np.array(invStateMat))"
   ]
  },
  {
   "cell_type": "code",
   "execution_count": null,
   "metadata": {},
   "outputs": [],
   "source": [
    "def shiftRow(stateMat: list):\n",
    "  \"\"\"\n",
    "  Round Shifts the rows of the state matrix to the left by the row number\n",
    "  \"\"\"\n",
    "  newStateMatrix = []\n",
    "  for i in range(WORD_ARRAY_SIZE):\n",
    "    newStateMatrix.append(np.roll(stateMat[i], -i))\n",
    "    \n",
    "  return newStateMatrix\n",
    "  "
   ]
  },
  {
   "cell_type": "code",
   "execution_count": null,
   "metadata": {},
   "outputs": [],
   "source": [
    "stateMat = shiftRow(stateMat)\n",
    "print(np.array(stateMat))"
   ]
  },
  {
   "cell_type": "code",
   "execution_count": null,
   "metadata": {},
   "outputs": [],
   "source": [
    "def invShiftRow(stateMat: list):\n",
    "  \"\"\"\n",
    "  Round Shifts the rows of the state matrix to the right by the row number\n",
    "  \"\"\"\n",
    "  newStateMatrix = []\n",
    "  for i in range(WORD_ARRAY_SIZE):\n",
    "    newStateMatrix.append(np.roll(stateMat[i], i))\n",
    "    \n",
    "  return newStateMatrix"
   ]
  },
  {
   "cell_type": "code",
   "execution_count": null,
   "metadata": {},
   "outputs": [],
   "source": [
    "invStateMat = invShiftRow(stateMat)\n",
    "print(np.array(invStateMat))"
   ]
  },
  {
   "cell_type": "code",
   "execution_count": null,
   "metadata": {},
   "outputs": [],
   "source": [
    "def mixColumn(stateMat: list) -> list:\n",
    "  \"\"\"\n",
    "  Mixes the columns of the state matrix with a fixed matrix\n",
    "  \"\"\"\n",
    "  stateMat = np.array(stateMat).T\n",
    "  newStateMatrix = []\n",
    "  \n",
    "  for i in range(WORD_ARRAY_SIZE):\n",
    "    row = []\n",
    "    for j in range(COLUMN_SIZE):\n",
    "      dotProd = 0\n",
    "      \n",
    "      for k in range(WORD_ARRAY_SIZE):\n",
    "        bv1 = Mixer[i][k]\n",
    "        bv2 = BitVector(intVal=int(stateMat[j][k], 16))\n",
    "\n",
    "        dotProd ^= (bv1.gf_multiply_modular(bv2, AES_modulus, 8)).int_val()\n",
    "\n",
    "        \n",
    "      row.append(hex(dotProd))\n",
    "    \n",
    "    newStateMatrix.append(row)\n",
    "  \n",
    "  return newStateMatrix  "
   ]
  },
  {
   "cell_type": "code",
   "execution_count": null,
   "metadata": {},
   "outputs": [],
   "source": [
    "stateMat = mixColumn(stateMat)\n",
    "print(np.array(stateMat))"
   ]
  },
  {
   "cell_type": "code",
   "execution_count": null,
   "metadata": {},
   "outputs": [],
   "source": [
    "def invMixColumn(stateMat: list) -> list:\n",
    "  \"\"\"\n",
    "  Mixes the columns of the state matrix with a fixed matrix\n",
    "  \"\"\"\n",
    "  stateMat = np.array(stateMat).T\n",
    "  newStateMatrix = []\n",
    "  \n",
    "  for i in range(WORD_ARRAY_SIZE):\n",
    "    row = []\n",
    "    for j in range(COLUMN_SIZE):\n",
    "      dotProd = 0\n",
    "      \n",
    "      for k in range(WORD_ARRAY_SIZE):\n",
    "        bv1 = InvMixer[i][k]\n",
    "        bv2 = BitVector(intVal=int(stateMat[j][k], 16))\n",
    "\n",
    "        dotProd ^= (bv1.gf_multiply_modular(bv2, AES_modulus, 8)).int_val()\n",
    "\n",
    "      row.append(hex(dotProd))\n",
    "    \n",
    "    newStateMatrix.append(row)\n",
    "  \n",
    "  return newStateMatrix"
   ]
  },
  {
   "cell_type": "code",
   "execution_count": null,
   "metadata": {},
   "outputs": [],
   "source": [
    "invStateMat = invMixColumn(stateMat)\n",
    "print(np.array(invStateMat))"
   ]
  },
  {
   "cell_type": "code",
   "execution_count": null,
   "metadata": {},
   "outputs": [],
   "source": [
    "stateMat = addRoundKey(stateMat, allKeys[1])\n",
    "print(np.array(stateMat))"
   ]
  },
  {
   "cell_type": "code",
   "execution_count": null,
   "metadata": {},
   "outputs": [],
   "source": [
    "def aesEncrypt(plainText: str, keyText: str) -> str:\n",
    "  \"\"\"\n",
    "  Performs the AES cipher on the given text with the given keys. The provided plain text and key texts are converted to 128 bit hex values.\n",
    "\n",
    "  args: plainText: str - the text to encrypt\n",
    "        keyText: str - the key to encrypt the text with \n",
    "  \n",
    "  returns: cipherText: str - the encrypted text\n",
    "  \"\"\"\n",
    "  keys = createAllKeys(keyText)\n",
    "\n",
    "  stateMat = stateMatrix(plainText)\n",
    "  stateMat = addRoundKey(stateMat, keys[0])\n",
    "  \n",
    "  for i in range(1, 10):\n",
    "    stateMat = subBytes(stateMat)\n",
    "    stateMat = shiftRow(stateMat)\n",
    "    stateMat = mixColumn(stateMat)\n",
    "    stateMat = addRoundKey(stateMat, keys[i])\n",
    "    \n",
    "  stateMat = subBytes(stateMat)\n",
    "  stateMat = shiftRow(stateMat)\n",
    "  stateMat = addRoundKey(stateMat, keys[10])\n",
    "\n",
    "  #  Convert the matrix to a string of hex values without the 0x prefix\n",
    "  cipherText = \"\"\n",
    "  for i in range(WORD_ARRAY_SIZE):\n",
    "    for j in range(COLUMN_SIZE):\n",
    "      extractedHex = stateMat[j][i][2:]\n",
    "      if len(extractedHex) == 1:\n",
    "        extractedHex = \"0\" + extractedHex\n",
    "\n",
    "      cipherText += extractedHex\n",
    "\n",
    "  return cipherText"
   ]
  },
  {
   "cell_type": "code",
   "execution_count": null,
   "metadata": {},
   "outputs": [],
   "source": [
    "cipherText = aesEncrypt(\"Two One Nine Two\", \"Thats my Kung Fu\")\n",
    "print(cipherText)\n"
   ]
  },
  {
   "cell_type": "code",
   "execution_count": null,
   "metadata": {},
   "outputs": [],
   "source": [
    "def aesDecrypt(cipherText: str, keyText: str) -> str:\n",
    "  \"\"\"\n",
    "  Performs the AES cipher on the given text with the given keys. The provided plain text and key texts are converted to 128 bit hex values.\n",
    "\n",
    "  args: cipherText: str - the text to decrypt\n",
    "        keyText: str - the key to decrypt the text with \n",
    "  \n",
    "  returns: plainText: str - the decrypted text\n",
    "  \"\"\"\n",
    "  keys = createAllKeys(keyText)\n",
    "\n",
    "  stateMat = invStateMatrix(cipherText)\n",
    "  stateMat = addRoundKey(stateMat, keys[10])\n",
    "  \n",
    "  for i in range(9, 0, -1):\n",
    "    stateMat = invShiftRow(stateMat)\n",
    "    stateMat = invSubBytes(stateMat)\n",
    "    stateMat = addRoundKey(stateMat, keys[i])\n",
    "    stateMat = invMixColumn(stateMat)\n",
    "    \n",
    "  stateMat = invShiftRow(stateMat)\n",
    "  stateMat = invSubBytes(stateMat)\n",
    "  stateMat = addRoundKey(stateMat, keys[0])\n",
    "\n",
    "  #  Convert the matrix to a string of hex values without the 0x prefix\n",
    "  hexValue = \"\"\n",
    "  for i in range(WORD_ARRAY_SIZE):\n",
    "    for j in range(COLUMN_SIZE):\n",
    "      hexValue += stateMat[j][i][2:]\n",
    "\n",
    "  #  Convert the hex value to ascii\n",
    "  plainText = bytearray.fromhex(hexValue).decode()\n",
    "  return plainText"
   ]
  },
  {
   "cell_type": "code",
   "execution_count": null,
   "metadata": {},
   "outputs": [],
   "source": [
    "print(aesDecrypt(cipherText, \"Thats my Kung Fu\"))"
   ]
  },
  {
   "cell_type": "code",
   "execution_count": null,
   "metadata": {},
   "outputs": [],
   "source": []
  },
  {
   "cell_type": "code",
   "execution_count": null,
   "metadata": {},
   "outputs": [],
   "source": []
  }
 ],
 "metadata": {
  "kernelspec": {
   "display_name": "Python 3",
   "language": "python",
   "name": "python3"
  },
  "language_info": {
   "codemirror_mode": {
    "name": "ipython",
    "version": 3
   },
   "file_extension": ".py",
   "mimetype": "text/x-python",
   "name": "python",
   "nbconvert_exporter": "python",
   "pygments_lexer": "ipython3",
   "version": "3.9.1"
  },
  "orig_nbformat": 4
 },
 "nbformat": 4,
 "nbformat_minor": 2
}
