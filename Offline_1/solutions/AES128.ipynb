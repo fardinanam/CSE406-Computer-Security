{
 "cells": [
  {
   "cell_type": "code",
   "execution_count": 47,
   "metadata": {},
   "outputs": [],
   "source": [
    "import numpy as np\n",
    "import sbox as sb\n",
    "\n",
    "KEY_SIZE = 128\n",
    "WORD_ARRAY_SIZE = 4\n",
    "WORD_SIZE = int(KEY_SIZE / WORD_ARRAY_SIZE)"
   ]
  },
  {
   "cell_type": "code",
   "execution_count": 48,
   "metadata": {},
   "outputs": [],
   "source": [
    "def stringToHex(string: str) -> list:\n",
    "  \"\"\"\n",
    "  Converts a string to a list of hex values\n",
    "  \"\"\"\n",
    "  return [hex(ord(c)) for c in string]"
   ]
  },
  {
   "cell_type": "code",
   "execution_count": 49,
   "metadata": {},
   "outputs": [
    {
     "name": "stdout",
     "output_type": "stream",
     "text": [
      "['0x54', '0x68', '0x61', '0x74', '0x73', '0x20', '0x6d', '0x79', '0x20', '0x4b', '0x75', '0x6e', '0x67', '0x20', '0x46', '0x75'] <class 'list'>\n"
     ]
    }
   ],
   "source": [
    "test = stringToHex(\"Thats my Kung Fu\")\n",
    "print(test, type(test))"
   ]
  },
  {
   "cell_type": "code",
   "execution_count": 50,
   "metadata": {},
   "outputs": [],
   "source": [
    "def keyToMatrix(key: list) -> list:\n",
    "  \"\"\"\n",
    "  Converts a list of hex values to a 4x4 matrix\n",
    "  \"\"\"\n",
    "  return np.matrix(np.reshape(key, (WORD_ARRAY_SIZE, int(KEY_SIZE / WORD_SIZE)))).tolist()"
   ]
  },
  {
   "cell_type": "code",
   "execution_count": 51,
   "metadata": {},
   "outputs": [
    {
     "name": "stdout",
     "output_type": "stream",
     "text": [
      "[['0x54', '0x68', '0x61', '0x74'], ['0x73', '0x20', '0x6d', '0x79'], ['0x20', '0x4b', '0x75', '0x6e'], ['0x67', '0x20', '0x46', '0x75']] <class 'list'>\n"
     ]
    }
   ],
   "source": [
    "testMatrix = keyToMatrix(test)\n",
    "print(testMatrix, type(testMatrix))"
   ]
  },
  {
   "cell_type": "code",
   "execution_count": 52,
   "metadata": {},
   "outputs": [],
   "source": [
    "def g(key: list) -> list:\n",
    "  \"\"\"\n",
    "  Performs the g() operation on a key\n",
    "  1. Rotates the key by 1 byte\n",
    "  2. Applies the sbox to each byte\n",
    "  3. Add the round constant (XOR)\n",
    "  \"\"\"\n",
    "  key = np.concatenate((key[1:], key[:1]))\n",
    "  key = [hex(sb.Sbox[int(x, 16)]) for x in key]\n",
    "  key[0] = hex(int(key[0], 16) ^ 0x01)\n",
    "\n",
    "  return key"
   ]
  },
  {
   "cell_type": "code",
   "execution_count": 53,
   "metadata": {},
   "outputs": [
    {
     "name": "stdout",
     "output_type": "stream",
     "text": [
      "['0xb6', '0x5a', '0x9d', '0x85'] <class 'list'>\n"
     ]
    }
   ],
   "source": [
    "testG = g(testMatrix[3])\n",
    "print(testG, type(testG))"
   ]
  },
  {
   "cell_type": "code",
   "execution_count": 54,
   "metadata": {},
   "outputs": [],
   "source": [
    "def xor(key1, key2):\n",
    "  \"\"\"\n",
    "  XORs two keys\n",
    "  \"\"\"\n",
    "  key = []\n",
    "  key1 = np.matrix(key1).tolist()[0]\n",
    "  key2 = np.matrix(key2).tolist()[0]\n",
    "  \n",
    "  for i in range(WORD_ARRAY_SIZE):\n",
    "    # print(key1[i], type(key1[i]), key2[i], type(key2[i]))\n",
    "    key.append(hex(int(key1[i], 16) ^ int(key2[i], 16)))\n",
    "    \n",
    "  return key"
   ]
  },
  {
   "cell_type": "code",
   "execution_count": 55,
   "metadata": {},
   "outputs": [
    {
     "name": "stdout",
     "output_type": "stream",
     "text": [
      "['0xe2', '0x32', '0xfc', '0xf1'] <class 'list'>\n"
     ]
    }
   ],
   "source": [
    "keyXor = xor(testMatrix[0], testG)\n",
    "print(keyXor, type(keyXor))"
   ]
  },
  {
   "cell_type": "code",
   "execution_count": 56,
   "metadata": {},
   "outputs": [],
   "source": [
    "def nextRoundKey(key: list) -> list:\n",
    "  \"\"\"\n",
    "  Generates the next round's key from the previous round's key\n",
    "  \"\"\"\n",
    "  # print(\"init key:\", key, type(key))\n",
    "  # print(\"xor\", xor(key[0], g(key[3])))\n",
    "  # key = np.array(key)\n",
    "  w = [xor(key[0], g(key[3]))]\n",
    "  \n",
    "  # print(\"w:\", w)\n",
    "  for i in range(1, WORD_ARRAY_SIZE):\n",
    "    # print(\"in for loop: \", i)\n",
    "    # print(f\"w[{i-1}]:\", w[i-1], type(w[i-1]))\n",
    "    # print(f\"key[{i}]:\", key[i], type(key[i]))\n",
    "    \n",
    "    newKey = xor(w[i - 1], key[i])\n",
    "    # print(\"newKey:\", newKey, type(newKey))\n",
    "    \n",
    "    w.append(newKey)\n",
    "    # np.append(w, xor(w[i - 1], key[i]))\n",
    "    \n",
    "  return w"
   ]
  },
  {
   "cell_type": "code",
   "execution_count": 58,
   "metadata": {},
   "outputs": [
    {
     "name": "stdout",
     "output_type": "stream",
     "text": [
      "Round 0: [['0x54', '0x68', '0x61', '0x74'], ['0x73', '0x20', '0x6d', '0x79'], ['0x20', '0x4b', '0x75', '0x6e'], ['0x67', '0x20', '0x46', '0x75']]\n",
      "\n",
      "Round 1: [['0xe2', '0x32', '0xfc', '0xf1'], ['0x91', '0x12', '0x91', '0x88'], ['0xb1', '0x59', '0xe4', '0xe6'], ['0xd6', '0x79', '0xa2', '0x93']]\n",
      "\n",
      "Round 2: [['0x55', '0x8', '0x20', '0x7'], ['0xc4', '0x1a', '0xb1', '0x8f'], ['0x75', '0x43', '0x55', '0x69'], ['0xa3', '0x3a', '0xf7', '0xfa']]\n",
      "\n",
      "Round 3: [['0xd4', '0x60', '0xd', '0xd'], ['0x10', '0x7a', '0xbc', '0x82'], ['0x65', '0x39', '0xe9', '0xeb'], ['0xc6', '0x3', '0x1e', '0x11']]\n",
      "\n",
      "Round 4: [['0xae', '0x12', '0x8f', '0xb9'], ['0xbe', '0x68', '0x33', '0x3b'], ['0xdb', '0x51', '0xda', '0xd0'], ['0x1d', '0x52', '0xc4', '0xc1']]\n",
      "\n",
      "Round 5: [['0xaf', '0xe', '0xf7', '0x1d'], ['0x11', '0x66', '0xc4', '0x26'], ['0xca', '0x37', '0x1e', '0xf6'], ['0xd7', '0x65', '0xda', '0x37']]\n",
      "\n",
      "Round 6: [['0xe3', '0x59', '0x6d', '0x13'], ['0xf2', '0x3f', '0xa9', '0x35'], ['0x38', '0x8', '0xb7', '0xc3'], ['0xef', '0x6d', '0x6d', '0xf4']]\n",
      "\n",
      "Round 7: [['0xde', '0x65', '0xd2', '0xcc'], ['0x2c', '0x5a', '0x7b', '0xf9'], ['0x14', '0x52', '0xcc', '0x3a'], ['0xfb', '0x3f', '0xa1', '0xce']]\n",
      "\n",
      "Round 8: [['0xaa', '0x57', '0x59', '0xc3'], ['0x86', '0xd', '0x22', '0x3a'], ['0x92', '0x5f', '0xee', '0x0'], ['0x69', '0x60', '0x4f', '0xce']]\n",
      "\n",
      "Round 9: [['0x7b', '0xd3', '0xd2', '0x3a'], ['0xfd', '0xde', '0xf0', '0x0'], ['0x6f', '0x81', '0x1e', '0x0'], ['0x6', '0xe1', '0x51', '0xce']]\n",
      "\n",
      "Round 10: [['0x82', '0x2', '0x59', '0x55'], ['0x7f', '0xdc', '0xa9', '0x55'], ['0x10', '0x5d', '0xb7', '0x55'], ['0x16', '0xbc', '0xe6', '0x9b']]\n",
      "\n"
     ]
    }
   ],
   "source": [
    "for i in range(11):\n",
    "  print(f\"Round {i}:\", testMatrix)\n",
    "  testMatrix = nextRoundKey(testMatrix)\n",
    "  print()"
   ]
  },
  {
   "cell_type": "code",
   "execution_count": null,
   "metadata": {},
   "outputs": [],
   "source": []
  }
 ],
 "metadata": {
  "kernelspec": {
   "display_name": "Python 3",
   "language": "python",
   "name": "python3"
  },
  "language_info": {
   "codemirror_mode": {
    "name": "ipython",
    "version": 3
   },
   "file_extension": ".py",
   "mimetype": "text/x-python",
   "name": "python",
   "nbconvert_exporter": "python",
   "pygments_lexer": "ipython3",
   "version": "3.10.6"
  },
  "orig_nbformat": 4
 },
 "nbformat": 4,
 "nbformat_minor": 2
}
